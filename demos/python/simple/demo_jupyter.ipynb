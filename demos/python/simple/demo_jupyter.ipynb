{
 "cells": [
  {
   "cell_type": "code",
   "execution_count": 3,
   "metadata": {},
   "outputs": [],
   "source": [
    "# Simple jupyter notebook demo\n",
    "# Meant to demonstrate Python API\n",
    "# PLEASE DON'T CHANGE\n",
    "# -----------------------------------------------------------------"
   ]
  },
  {
   "cell_type": "code",
   "execution_count": 2,
   "metadata": {},
   "outputs": [],
   "source": [
    "# Use the interactive backend so we can control the car\n",
    "%matplotlib widget\n",
    "\n",
    "# Import the simulator\n",
    "import wa_simulator as wa\n",
    "\n",
    "# Simulation config\n",
    "step_size = 3e-3\n",
    "render_step_size = 1e-1"
   ]
  },
  {
   "cell_type": "code",
   "execution_count": 4,
   "metadata": {},
   "outputs": [
    {
     "ename": "SystemExit",
     "evalue": "0",
     "output_type": "error",
     "traceback": [
      "An exception has occurred, use %tb to see the full traceback.\n",
      "\u001b[0;31mSystemExit\u001b[0m\u001b[0;31m:\u001b[0m 0\n"
     ]
    },
    {
     "name": "stderr",
     "output_type": "stream",
     "text": [
      "/usr/local/anaconda3/envs/wa/lib/python3.8/site-packages/IPython/core/interactiveshell.py:3339: UserWarning: To exit: use 'exit', 'quit', or Ctrl-D.\n",
      "  warn(\"To exit: use 'exit', 'quit', or Ctrl-D.\", stacklevel=1)\n"
     ]
    }
   ],
   "source": [
    "# Create the system\n",
    "sys = wa.WASystem(step_size=1e-3)\n",
    "\n",
    "# Create an environment using a premade environment description\n",
    "env_filename = wa.WASimpleEnvironment.EGP_ENV_MODEL_FILE\n",
    "env = wa.WASimpleEnvironment(env_filename, sys)\n",
    "\n",
    "# Create an vehicle using a premade vehicle description\n",
    "veh_filename = wa.WALinearKinematicBicycle.GO_KART_MODEL_FILE\n",
    "veh = wa.WALinearKinematicBicycle(veh_filename)\n",
    "\n",
    "# Visualize the simulation using matplotlib\n",
    "vis = wa.WAMatplotlibJupyterVisualization(veh, sys)\n",
    "\n",
    "# Create a controller\n",
    "ctr = wa.WASimpleController(sys)\n",
    "\n",
    "# Instantiate the simulation manager\n",
    "sim = wa.WASimulation(sys, env, veh, vis, ctr)\n",
    "\n",
    "# Run the simulation\n",
    "while True:\n",
    "    time = sys.GetSimTime()\n",
    "\n",
    "    sim.Synchronize(time)\n",
    "    sim.Advance(step_size)"
   ]
  },
  {
   "cell_type": "code",
   "execution_count": null,
   "metadata": {},
   "outputs": [],
   "source": []
  }
 ],
 "metadata": {
  "kernelspec": {
   "display_name": "Python 3",
   "language": "python",
   "name": "python3"
  },
  "language_info": {
   "codemirror_mode": {
    "name": "ipython",
    "version": 3
   },
   "file_extension": ".py",
   "mimetype": "text/x-python",
   "name": "python",
   "nbconvert_exporter": "python",
   "pygments_lexer": "ipython3",
   "version": "3.8.6"
  }
 },
 "nbformat": 4,
 "nbformat_minor": 4
}
